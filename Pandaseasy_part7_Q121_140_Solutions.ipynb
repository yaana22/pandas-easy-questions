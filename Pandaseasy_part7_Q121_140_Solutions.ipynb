{
  "cells": [
    {
      "cell_type": "markdown",
      "id": "e6335d75",
      "metadata": {
        "id": "e6335d75"
      },
      "source": [
        "# Pandas Questions 121–140 with Solutions"
      ]
    },
    {
      "cell_type": "markdown",
      "id": "82af7e55",
      "metadata": {
        "id": "82af7e55"
      },
      "source": [
        "### 121. Line Plot (Stock_Price)"
      ]
    },
    {
      "cell_type": "code",
      "execution_count": null,
      "id": "fe267a56",
      "metadata": {
        "id": "fe267a56"
      },
      "outputs": [],
      "source": [
        "df['Stock_Price'].plot(kind='line')"
      ]
    },
    {
      "cell_type": "markdown",
      "id": "5b1b4e0b",
      "metadata": {
        "id": "5b1b4e0b"
      },
      "source": [
        "### 122. Bar Plot (City value counts)"
      ]
    },
    {
      "cell_type": "code",
      "execution_count": null,
      "id": "a3553cc0",
      "metadata": {
        "id": "a3553cc0"
      },
      "outputs": [],
      "source": [
        "df['City'].value_counts().plot(kind='bar')"
      ]
    },
    {
      "cell_type": "markdown",
      "id": "84c576b5",
      "metadata": {
        "id": "84c576b5"
      },
      "source": [
        "### 123. Histogram (Age)"
      ]
    },
    {
      "cell_type": "code",
      "execution_count": null,
      "id": "6d688e45",
      "metadata": {
        "id": "6d688e45"
      },
      "outputs": [],
      "source": [
        "df['Age'].plot(kind='hist', bins=10)"
      ]
    },
    {
      "cell_type": "markdown",
      "id": "d15abe10",
      "metadata": {
        "id": "d15abe10"
      },
      "source": [
        "### 124. Box Plot (Salary)"
      ]
    },
    {
      "cell_type": "code",
      "execution_count": null,
      "id": "389066f0",
      "metadata": {
        "id": "389066f0"
      },
      "outputs": [],
      "source": [
        "df['Salary'].plot(kind='box')"
      ]
    },
    {
      "cell_type": "markdown",
      "id": "75498754",
      "metadata": {
        "id": "75498754"
      },
      "source": [
        "### 125. Area Plot (two columns)"
      ]
    },
    {
      "cell_type": "code",
      "execution_count": null,
      "id": "b6cfe1a7",
      "metadata": {
        "id": "b6cfe1a7"
      },
      "outputs": [],
      "source": [
        "df[['col1', 'col2']].plot(kind='area', stacked=True)"
      ]
    },
    {
      "cell_type": "markdown",
      "id": "6ebbfff9",
      "metadata": {
        "id": "6ebbfff9"
      },
      "source": [
        "### 126. Scatter Plot (Age vs Salary)"
      ]
    },
    {
      "cell_type": "code",
      "execution_count": null,
      "id": "4bf38231",
      "metadata": {
        "id": "4bf38231"
      },
      "outputs": [],
      "source": [
        "df.plot.scatter(x='Age', y='Salary')"
      ]
    },
    {
      "cell_type": "markdown",
      "id": "2e949bc2",
      "metadata": {
        "id": "2e949bc2"
      },
      "source": [
        "### 127. Pie Chart (Gender)"
      ]
    },
    {
      "cell_type": "code",
      "execution_count": null,
      "id": "2f3a8df4",
      "metadata": {
        "id": "2f3a8df4"
      },
      "outputs": [],
      "source": [
        "df['Gender'].value_counts().plot(kind='pie', autopct='%1.1f%%')"
      ]
    },
    {
      "cell_type": "markdown",
      "id": "38fb439f",
      "metadata": {
        "id": "38fb439f"
      },
      "source": [
        "### 128. Line Plot with Title"
      ]
    },
    {
      "cell_type": "code",
      "execution_count": null,
      "id": "303588a2",
      "metadata": {
        "id": "303588a2"
      },
      "outputs": [],
      "source": [
        "df['Stock_Price'].plot(kind='line', title='Stock Price Over Time')"
      ]
    },
    {
      "cell_type": "markdown",
      "id": "2a7953b0",
      "metadata": {
        "id": "2a7953b0"
      },
      "source": [
        "### 129. Bar Plot with Labels"
      ]
    },
    {
      "cell_type": "code",
      "execution_count": null,
      "id": "ae479f43",
      "metadata": {
        "id": "ae479f43"
      },
      "outputs": [],
      "source": [
        "df['City'].value_counts().plot(kind='bar')\n",
        "plt.xlabel('City')\n",
        "plt.ylabel('Count')"
      ]
    },
    {
      "cell_type": "markdown",
      "id": "76691d99",
      "metadata": {
        "id": "76691d99"
      },
      "source": [
        "### 130. Horizontal Bar Plot (City)"
      ]
    },
    {
      "cell_type": "code",
      "execution_count": null,
      "id": "98ffbb56",
      "metadata": {
        "id": "98ffbb56"
      },
      "outputs": [],
      "source": [
        "df['City'].value_counts().plot(kind='barh')"
      ]
    },
    {
      "cell_type": "markdown",
      "id": "79c75163",
      "metadata": {
        "id": "79c75163"
      },
      "source": [
        "### 131. Read from CSV"
      ]
    },
    {
      "cell_type": "code",
      "execution_count": null,
      "id": "7fea07ef",
      "metadata": {
        "id": "7fea07ef"
      },
      "outputs": [],
      "source": [
        "df = pd.read_csv('students.csv')"
      ]
    },
    {
      "cell_type": "markdown",
      "id": "a99b169f",
      "metadata": {
        "id": "a99b169f"
      },
      "source": [
        "### 132. Write to CSV"
      ]
    },
    {
      "cell_type": "code",
      "execution_count": null,
      "id": "9ff76e74",
      "metadata": {
        "id": "9ff76e74"
      },
      "outputs": [],
      "source": [
        "df.to_csv('output.csv')"
      ]
    },
    {
      "cell_type": "markdown",
      "id": "76b67d15",
      "metadata": {
        "id": "76b67d15"
      },
      "source": [
        "### 133. Write to CSV without index"
      ]
    },
    {
      "cell_type": "code",
      "execution_count": null,
      "id": "5ae76ce5",
      "metadata": {
        "id": "5ae76ce5"
      },
      "outputs": [],
      "source": [
        "df.to_csv('output.csv', index=False)"
      ]
    },
    {
      "cell_type": "markdown",
      "id": "1838bfb4",
      "metadata": {
        "id": "1838bfb4"
      },
      "source": [
        "### 134. Read from Excel"
      ]
    },
    {
      "cell_type": "code",
      "execution_count": null,
      "id": "abfccdc4",
      "metadata": {
        "id": "abfccdc4"
      },
      "outputs": [],
      "source": [
        "df = pd.read_excel('data.xlsx')"
      ]
    },
    {
      "cell_type": "markdown",
      "id": "6bb68550",
      "metadata": {
        "id": "6bb68550"
      },
      "source": [
        "### 135. Write to Excel"
      ]
    },
    {
      "cell_type": "code",
      "execution_count": null,
      "id": "6d13b30f",
      "metadata": {
        "id": "6d13b30f"
      },
      "outputs": [],
      "source": [
        "df.to_excel('output.xlsx', sheet_name='Sheet1')"
      ]
    },
    {
      "cell_type": "markdown",
      "id": "d22811b6",
      "metadata": {
        "id": "d22811b6"
      },
      "source": [
        "### 136. Read specific sheet (Grades)"
      ]
    },
    {
      "cell_type": "code",
      "execution_count": null,
      "id": "eaca8358",
      "metadata": {
        "id": "eaca8358"
      },
      "outputs": [],
      "source": [
        "df = pd.read_excel('data.xlsx', sheet_name='Grades')"
      ]
    },
    {
      "cell_type": "markdown",
      "id": "5a20e6c6",
      "metadata": {
        "id": "5a20e6c6"
      },
      "source": [
        "### 137. Read from JSON"
      ]
    },
    {
      "cell_type": "code",
      "execution_count": null,
      "id": "452db100",
      "metadata": {
        "id": "452db100"
      },
      "outputs": [],
      "source": [
        "df = pd.read_json('data.json')"
      ]
    },
    {
      "cell_type": "markdown",
      "id": "a98280ce",
      "metadata": {
        "id": "a98280ce"
      },
      "source": [
        "### 138. Write to JSON"
      ]
    },
    {
      "cell_type": "code",
      "execution_count": null,
      "id": "dc40eba4",
      "metadata": {
        "id": "dc40eba4"
      },
      "outputs": [],
      "source": [
        "df.to_json('output.json')"
      ]
    },
    {
      "cell_type": "markdown",
      "id": "1f109e38",
      "metadata": {
        "id": "1f109e38"
      },
      "source": [
        "### 139. Read from Clipboard"
      ]
    },
    {
      "cell_type": "code",
      "execution_count": null,
      "id": "43287a14",
      "metadata": {
        "id": "43287a14"
      },
      "outputs": [],
      "source": [
        "df = pd.read_clipboard()"
      ]
    },
    {
      "cell_type": "markdown",
      "id": "80e44449",
      "metadata": {
        "id": "80e44449"
      },
      "source": [
        "### 140. Read TSV file"
      ]
    },
    {
      "cell_type": "code",
      "execution_count": null,
      "id": "b8966c2e",
      "metadata": {
        "id": "b8966c2e"
      },
      "outputs": [],
      "source": [
        "df = pd.read_csv('data.tsv', sep='\\t')"
      ]
    }
  ],
  "metadata": {
    "colab": {
      "provenance": []
    }
  },
  "nbformat": 4,
  "nbformat_minor": 5
}