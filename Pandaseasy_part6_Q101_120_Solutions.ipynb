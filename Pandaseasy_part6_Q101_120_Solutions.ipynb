{
  "cells": [
    {
      "cell_type": "markdown",
      "id": "c9e524b9",
      "metadata": {
        "id": "c9e524b9"
      },
      "source": [
        "# Pandas Questions 101–120 with Solutions"
      ]
    },
    {
      "cell_type": "markdown",
      "id": "ec3e2543",
      "metadata": {
        "id": "ec3e2543"
      },
      "source": [
        "### 101. Sort a Series (ascending)"
      ]
    },
    {
      "cell_type": "code",
      "execution_count": null,
      "id": "40c1301e",
      "metadata": {
        "id": "40c1301e"
      },
      "outputs": [],
      "source": [
        "s.sort_values()"
      ]
    },
    {
      "cell_type": "markdown",
      "id": "d0d16991",
      "metadata": {
        "id": "d0d16991"
      },
      "source": [
        "### 102. Sort DataFrame by one column (Age ascending)"
      ]
    },
    {
      "cell_type": "code",
      "execution_count": null,
      "id": "24ddb888",
      "metadata": {
        "id": "24ddb888"
      },
      "outputs": [],
      "source": [
        "df.sort_values(by='Age')"
      ]
    },
    {
      "cell_type": "markdown",
      "id": "b96cf5bc",
      "metadata": {
        "id": "b96cf5bc"
      },
      "source": [
        "### 103. Sort DataFrame by one column (Salary descending)"
      ]
    },
    {
      "cell_type": "code",
      "execution_count": null,
      "id": "121bab2d",
      "metadata": {
        "id": "121bab2d"
      },
      "outputs": [],
      "source": [
        "df.sort_values(by='Salary', ascending=False)"
      ]
    },
    {
      "cell_type": "markdown",
      "id": "7ad2aa04",
      "metadata": {
        "id": "7ad2aa04"
      },
      "source": [
        "### 104. Sort by multiple columns (City asc, Age desc)"
      ]
    },
    {
      "cell_type": "code",
      "execution_count": null,
      "id": "a25fbf19",
      "metadata": {
        "id": "a25fbf19"
      },
      "outputs": [],
      "source": [
        "df.sort_values(by=['City', 'Age'], ascending=[True, False])"
      ]
    },
    {
      "cell_type": "markdown",
      "id": "9e5c8c18",
      "metadata": {
        "id": "9e5c8c18"
      },
      "source": [
        "### 105. Get 5 largest salaries"
      ]
    },
    {
      "cell_type": "code",
      "execution_count": null,
      "id": "48c1a96d",
      "metadata": {
        "id": "48c1a96d"
      },
      "outputs": [],
      "source": [
        "df.nlargest(5, 'Salary')"
      ]
    },
    {
      "cell_type": "markdown",
      "id": "fdb60c3b",
      "metadata": {
        "id": "fdb60c3b"
      },
      "source": [
        "### 106. Get 3 smallest ages"
      ]
    },
    {
      "cell_type": "code",
      "execution_count": null,
      "id": "e8fd5e88",
      "metadata": {
        "id": "e8fd5e88"
      },
      "outputs": [],
      "source": [
        "df.nsmallest(3, 'Age')"
      ]
    },
    {
      "cell_type": "markdown",
      "id": "8cf8e1ff",
      "metadata": {
        "id": "8cf8e1ff"
      },
      "source": [
        "### 107. Rank data by Salary (default)"
      ]
    },
    {
      "cell_type": "code",
      "execution_count": null,
      "id": "63c063a9",
      "metadata": {
        "id": "63c063a9"
      },
      "outputs": [],
      "source": [
        "df['Salary_rank'] = df['Salary'].rank()"
      ]
    },
    {
      "cell_type": "markdown",
      "id": "870b9ed6",
      "metadata": {
        "id": "870b9ed6"
      },
      "source": [
        "### 108. Rank Salary using dense method"
      ]
    },
    {
      "cell_type": "code",
      "execution_count": null,
      "id": "a7e3adf2",
      "metadata": {
        "id": "a7e3adf2"
      },
      "outputs": [],
      "source": [
        "df['Salary_dense_rank'] = df['Salary'].rank(method='dense')"
      ]
    },
    {
      "cell_type": "markdown",
      "id": "befbf0e8",
      "metadata": {
        "id": "befbf0e8"
      },
      "source": [
        "### 109. Rank Age in descending order"
      ]
    },
    {
      "cell_type": "code",
      "execution_count": null,
      "id": "e11c90d6",
      "metadata": {
        "id": "e11c90d6"
      },
      "outputs": [],
      "source": [
        "df['Age_rank_desc'] = df['Age'].rank(ascending=False)"
      ]
    },
    {
      "cell_type": "markdown",
      "id": "5468e62d",
      "metadata": {
        "id": "5468e62d"
      },
      "source": [
        "### 110. Sort DataFrame index"
      ]
    },
    {
      "cell_type": "code",
      "execution_count": null,
      "id": "970951d0",
      "metadata": {
        "id": "970951d0"
      },
      "outputs": [],
      "source": [
        "df.sort_index()"
      ]
    },
    {
      "cell_type": "markdown",
      "id": "753300e8",
      "metadata": {
        "id": "753300e8"
      },
      "source": [
        "### 111. Check if index is sorted"
      ]
    },
    {
      "cell_type": "code",
      "execution_count": null,
      "id": "654ab21a",
      "metadata": {
        "id": "654ab21a"
      },
      "outputs": [],
      "source": [
        "df.index.is_monotonic_increasing"
      ]
    },
    {
      "cell_type": "markdown",
      "id": "3df7610e",
      "metadata": {
        "id": "3df7610e"
      },
      "source": [
        "### 112. Get 5 largest rows by multiple columns (City, Salary)"
      ]
    },
    {
      "cell_type": "code",
      "execution_count": null,
      "id": "e0185b75",
      "metadata": {
        "id": "e0185b75"
      },
      "outputs": [],
      "source": [
        "df.nlargest(5, ['City', 'Salary'])"
      ]
    },
    {
      "cell_type": "markdown",
      "id": "a615ea02",
      "metadata": {
        "id": "a615ea02"
      },
      "source": [
        "### 113. Sort a column with missing values"
      ]
    },
    {
      "cell_type": "code",
      "execution_count": null,
      "id": "a36738ff",
      "metadata": {
        "id": "a36738ff"
      },
      "outputs": [],
      "source": [
        "df['col_with_nan'].sort_values()"
      ]
    },
    {
      "cell_type": "markdown",
      "id": "35d9c9d8",
      "metadata": {
        "id": "35d9c9d8"
      },
      "source": [
        "### 114. Sort with NaN first"
      ]
    },
    {
      "cell_type": "code",
      "execution_count": null,
      "id": "101e5da5",
      "metadata": {
        "id": "101e5da5"
      },
      "outputs": [],
      "source": [
        "df['col_with_nan'].sort_values(na_position='first')"
      ]
    },
    {
      "cell_type": "markdown",
      "id": "d61d9957",
      "metadata": {
        "id": "d61d9957"
      },
      "source": [
        "### 115. Sort strings case-insensitively"
      ]
    },
    {
      "cell_type": "code",
      "execution_count": null,
      "id": "d196062c",
      "metadata": {
        "id": "d196062c"
      },
      "outputs": [],
      "source": [
        "df['Name'].sort_values(key=lambda x: x.str.lower())"
      ]
    },
    {
      "cell_type": "markdown",
      "id": "daa41869",
      "metadata": {
        "id": "daa41869"
      },
      "source": [
        "### 116. Get 5 smallest values from entire DataFrame"
      ]
    },
    {
      "cell_type": "code",
      "execution_count": null,
      "id": "1691ab44",
      "metadata": {
        "id": "1691ab44"
      },
      "outputs": [],
      "source": [
        "df.stack().nsmallest(5)"
      ]
    },
    {
      "cell_type": "markdown",
      "id": "fe5dbc0b",
      "metadata": {
        "id": "fe5dbc0b"
      },
      "source": [
        "### 117. Get 5 largest values from entire DataFrame"
      ]
    },
    {
      "cell_type": "code",
      "execution_count": null,
      "id": "13a077ed",
      "metadata": {
        "id": "13a077ed"
      },
      "outputs": [],
      "source": [
        "df.stack().nlargest(5)"
      ]
    },
    {
      "cell_type": "markdown",
      "id": "071b456b",
      "metadata": {
        "id": "071b456b"
      },
      "source": [
        "### 118. Sort by index descending"
      ]
    },
    {
      "cell_type": "code",
      "execution_count": null,
      "id": "47421096",
      "metadata": {
        "id": "47421096"
      },
      "outputs": [],
      "source": [
        "df.sort_index(ascending=False)"
      ]
    },
    {
      "cell_type": "markdown",
      "id": "a618320e",
      "metadata": {
        "id": "a618320e"
      },
      "source": [
        "### 119. Rank Salary with min method"
      ]
    },
    {
      "cell_type": "code",
      "execution_count": null,
      "id": "fbe22bfc",
      "metadata": {
        "id": "fbe22bfc"
      },
      "outputs": [],
      "source": [
        "df['Salary_min_rank'] = df['Salary'].rank(method='min')"
      ]
    },
    {
      "cell_type": "markdown",
      "id": "5d46757d",
      "metadata": {
        "id": "5d46757d"
      },
      "source": [
        "### 120. Rank Salary with max method"
      ]
    },
    {
      "cell_type": "code",
      "execution_count": null,
      "id": "54ca6d65",
      "metadata": {
        "id": "54ca6d65"
      },
      "outputs": [],
      "source": [
        "df['Salary_max_rank'] = df['Salary'].rank(method='max')"
      ]
    }
  ],
  "metadata": {
    "colab": {
      "provenance": []
    }
  },
  "nbformat": 4,
  "nbformat_minor": 5
}