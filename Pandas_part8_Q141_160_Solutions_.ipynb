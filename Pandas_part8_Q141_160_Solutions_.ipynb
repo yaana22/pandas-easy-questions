{
  "cells": [
    {
      "cell_type": "markdown",
      "id": "5a7ca8b4",
      "metadata": {
        "id": "5a7ca8b4"
      },
      "source": [
        "# Pandas Questions 141–160 with Solutions"
      ]
    },
    {
      "cell_type": "markdown",
      "id": "766eb4b9",
      "metadata": {
        "id": "766eb4b9"
      },
      "source": [
        "### 141. Concatenate two DataFrames (rows)"
      ]
    },
    {
      "cell_type": "code",
      "execution_count": null,
      "id": "43fe740e",
      "metadata": {
        "id": "43fe740e"
      },
      "outputs": [],
      "source": [
        "pd.concat([df1, df2], axis=0)"
      ]
    },
    {
      "cell_type": "markdown",
      "id": "9612b895",
      "metadata": {
        "id": "9612b895"
      },
      "source": [
        "### 142. Concatenate two DataFrames (columns)"
      ]
    },
    {
      "cell_type": "code",
      "execution_count": null,
      "id": "dc3ffc7d",
      "metadata": {
        "id": "dc3ffc7d"
      },
      "outputs": [],
      "source": [
        "pd.concat([df1, df2], axis=1)"
      ]
    },
    {
      "cell_type": "markdown",
      "id": "b19addac",
      "metadata": {
        "id": "b19addac"
      },
      "source": [
        "### 143. Append a row"
      ]
    },
    {
      "cell_type": "code",
      "execution_count": null,
      "id": "3a7dcfed",
      "metadata": {
        "id": "3a7dcfed"
      },
      "outputs": [],
      "source": [
        "df.loc[len(df)] = {'Name': 'John', 'Age': 30, 'City': 'Paris'}"
      ]
    },
    {
      "cell_type": "markdown",
      "id": "9ded53d5",
      "metadata": {
        "id": "9ded53d5"
      },
      "source": [
        "### 144. Append a DataFrame"
      ]
    },
    {
      "cell_type": "code",
      "execution_count": null,
      "id": "f159c4b3",
      "metadata": {
        "id": "f159c4b3"
      },
      "outputs": [],
      "source": [
        "df = df.append(df2)  # deprecated, use pd.concat([df, df2])"
      ]
    },
    {
      "cell_type": "markdown",
      "id": "658d03e7",
      "metadata": {
        "id": "658d03e7"
      },
      "source": [
        "### 145. Concatenate with ignore_index"
      ]
    },
    {
      "cell_type": "code",
      "execution_count": null,
      "id": "31c8d7da",
      "metadata": {
        "id": "31c8d7da"
      },
      "outputs": [],
      "source": [
        "pd.concat([df1, df2], ignore_index=True)"
      ]
    },
    {
      "cell_type": "markdown",
      "id": "4737ed9e",
      "metadata": {
        "id": "4737ed9e"
      },
      "source": [
        "### 146. Concatenate with keys"
      ]
    },
    {
      "cell_type": "code",
      "execution_count": null,
      "id": "77f5d23d",
      "metadata": {
        "id": "77f5d23d"
      },
      "outputs": [],
      "source": [
        "pd.concat([df1, df2], keys=['df1', 'df2'])"
      ]
    },
    {
      "cell_type": "markdown",
      "id": "918f9ca5",
      "metadata": {
        "id": "918f9ca5"
      },
      "source": [
        "### 147. Join two DataFrames on index"
      ]
    },
    {
      "cell_type": "code",
      "execution_count": null,
      "id": "30989e1e",
      "metadata": {
        "id": "30989e1e"
      },
      "outputs": [],
      "source": [
        "df1.join(df2)"
      ]
    },
    {
      "cell_type": "markdown",
      "id": "b205503e",
      "metadata": {
        "id": "b205503e"
      },
      "source": [
        "### 148. Merge two DataFrames (inner join)"
      ]
    },
    {
      "cell_type": "code",
      "execution_count": null,
      "id": "9d63d3de",
      "metadata": {
        "id": "9d63d3de"
      },
      "outputs": [],
      "source": [
        "pd.merge(df1, df2, on='ID', how='inner')"
      ]
    },
    {
      "cell_type": "markdown",
      "id": "44e39f07",
      "metadata": {
        "id": "44e39f07"
      },
      "source": [
        "### 149. Simple merge on 'ID'"
      ]
    },
    {
      "cell_type": "code",
      "execution_count": null,
      "id": "babb1312",
      "metadata": {
        "id": "babb1312"
      },
      "outputs": [],
      "source": [
        "pd.merge(df1, df2, on='ID')"
      ]
    },
    {
      "cell_type": "markdown",
      "id": "f72ab296",
      "metadata": {
        "id": "f72ab296"
      },
      "source": [
        "### 150. Append a Series as row"
      ]
    },
    {
      "cell_type": "code",
      "execution_count": null,
      "id": "1845dc68",
      "metadata": {
        "id": "1845dc68"
      },
      "outputs": [],
      "source": [
        "df.loc[len(df)] = s"
      ]
    },
    {
      "cell_type": "markdown",
      "id": "614972a7",
      "metadata": {
        "id": "614972a7"
      },
      "source": [
        "### 151. Use where()"
      ]
    },
    {
      "cell_type": "code",
      "execution_count": null,
      "id": "735929c8",
      "metadata": {
        "id": "735929c8"
      },
      "outputs": [],
      "source": [
        "df['Age'] = df['Age'].where(df['Age'] >= 25)"
      ]
    },
    {
      "cell_type": "markdown",
      "id": "05d49f79",
      "metadata": {
        "id": "05d49f79"
      },
      "source": [
        "### 152. Use mask()"
      ]
    },
    {
      "cell_type": "code",
      "execution_count": null,
      "id": "c50ccd79",
      "metadata": {
        "id": "c50ccd79"
      },
      "outputs": [],
      "source": [
        "df['Age'] = df['Age'].mask(df['Age'] > 25)"
      ]
    },
    {
      "cell_type": "markdown",
      "id": "84cfcd67",
      "metadata": {
        "id": "84cfcd67"
      },
      "source": [
        "### 153. Use at for scalar access"
      ]
    },
    {
      "cell_type": "code",
      "execution_count": null,
      "id": "d65fccca",
      "metadata": {
        "id": "d65fccca"
      },
      "outputs": [],
      "source": [
        "value = df.at[2, 'Age']"
      ]
    },
    {
      "cell_type": "markdown",
      "id": "88c1e93e",
      "metadata": {
        "id": "88c1e93e"
      },
      "source": [
        "### 154. Use iat for scalar access"
      ]
    },
    {
      "cell_type": "code",
      "execution_count": null,
      "id": "e6a2281d",
      "metadata": {
        "id": "e6a2281d"
      },
      "outputs": [],
      "source": [
        "value = df.iat[2, 1]"
      ]
    },
    {
      "cell_type": "markdown",
      "id": "5deefb96",
      "metadata": {
        "id": "5deefb96"
      },
      "source": [
        "### 155. Check membership with isin()"
      ]
    },
    {
      "cell_type": "code",
      "execution_count": null,
      "id": "b82d4c8f",
      "metadata": {
        "id": "b82d4c8f"
      },
      "outputs": [],
      "source": [
        "df['col'].isin([10, 30])"
      ]
    },
    {
      "cell_type": "markdown",
      "id": "506a132a",
      "metadata": {
        "id": "506a132a"
      },
      "source": [
        "### 156. Use clip()"
      ]
    },
    {
      "cell_type": "code",
      "execution_count": null,
      "id": "760013b5",
      "metadata": {
        "id": "760013b5"
      },
      "outputs": [],
      "source": [
        "df['Score'] = df['Score'].clip(0, 100)"
      ]
    },
    {
      "cell_type": "markdown",
      "id": "38071146",
      "metadata": {
        "id": "38071146"
      },
      "source": [
        "### 157. Copy to clipboard"
      ]
    },
    {
      "cell_type": "code",
      "execution_count": null,
      "id": "663167a5",
      "metadata": {
        "id": "663167a5"
      },
      "outputs": [],
      "source": [
        "df.to_clipboard()"
      ]
    },
    {
      "cell_type": "markdown",
      "id": "16032e07",
      "metadata": {
        "id": "16032e07"
      },
      "source": [
        "### 158. Get memory usage"
      ]
    },
    {
      "cell_type": "code",
      "execution_count": null,
      "id": "92791099",
      "metadata": {
        "id": "92791099"
      },
      "outputs": [],
      "source": [
        "df.memory_usage(deep=True)"
      ]
    },
    {
      "cell_type": "markdown",
      "id": "2ec342ac",
      "metadata": {
        "id": "2ec342ac"
      },
      "source": [
        "### 159. Get number of dimensions"
      ]
    },
    {
      "cell_type": "code",
      "execution_count": null,
      "id": "77082c51",
      "metadata": {
        "id": "77082c51"
      },
      "outputs": [],
      "source": [
        "df.ndim"
      ]
    },
    {
      "cell_type": "markdown",
      "id": "55069644",
      "metadata": {
        "id": "55069644"
      },
      "source": [
        "### 160. Get underlying NumPy array"
      ]
    },
    {
      "cell_type": "code",
      "execution_count": null,
      "id": "edaf84ec",
      "metadata": {
        "id": "edaf84ec"
      },
      "outputs": [],
      "source": [
        "df.values"
      ]
    }
  ],
  "metadata": {
    "colab": {
      "provenance": []
    }
  },
  "nbformat": 4,
  "nbformat_minor": 5
}