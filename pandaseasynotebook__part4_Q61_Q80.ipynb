{
  "nbformat": 4,
  "nbformat_minor": 5,
  "metadata": {
    "colab": {
      "provenance": []
    }
  },
  "cells": [
    {
      "id": "b75abeb8",
      "cell_type": "markdown",
      "source": [
        "# Pandas Practice (Q61–Q80)\n",
        "\n"
      ],
      "metadata": {
        "id": "b75abeb8"
      }
    },
    {
      "id": "e0c95730",
      "cell_type": "code",
      "metadata": {
        "id": "e0c95730"
      },
      "execution_count": null,
      "source": [
        "\n",
        "import pandas as pd\n",
        "import numpy as np\n",
        "\n",
        "# Sample DataFrame we'll use for all examples\n",
        "df = pd.DataFrame({\n",
        "    'Name': ['A', 'B', 'C', 'D', 'E', 'F'],\n",
        "    'Age': [25, np.nan, 22, 35, np.nan, 28],\n",
        "    'Salary': [50000, 60000, np.nan, 80000, np.nan, 70000],\n",
        "    'City': ['New York', 'London', 'Unknown', np.nan, 'Paris', 'London']\n",
        "})\n",
        "df\n"
      ],
      "outputs": []
    },
    {
      "id": "f5abd428",
      "cell_type": "markdown",
      "source": [
        "### 61. Check for any missing values (True/False)"
      ],
      "metadata": {
        "id": "f5abd428"
      }
    },
    {
      "id": "462dce04",
      "cell_type": "code",
      "metadata": {
        "id": "462dce04"
      },
      "execution_count": null,
      "source": [
        "df.isnull().values.any()"
      ],
      "outputs": []
    },
    {
      "id": "71b63205",
      "cell_type": "markdown",
      "source": [
        "### 62. Count missing values in each column"
      ],
      "metadata": {
        "id": "71b63205"
      }
    },
    {
      "id": "3234729a",
      "cell_type": "code",
      "metadata": {
        "id": "3234729a"
      },
      "execution_count": null,
      "source": [
        "df.isnull().sum()"
      ],
      "outputs": []
    },
    {
      "id": "e3f5d83d",
      "cell_type": "markdown",
      "source": [
        "### 63. Sum all missing values"
      ],
      "metadata": {
        "id": "e3f5d83d"
      }
    },
    {
      "id": "296874f5",
      "cell_type": "code",
      "metadata": {
        "id": "296874f5"
      },
      "execution_count": null,
      "source": [
        "df.isnull().sum().sum()"
      ],
      "outputs": []
    },
    {
      "id": "9cf6d4eb",
      "cell_type": "markdown",
      "source": [
        "### 64. Drop rows with any missing values"
      ],
      "metadata": {
        "id": "9cf6d4eb"
      }
    },
    {
      "id": "f1a8d1a6",
      "cell_type": "code",
      "metadata": {
        "id": "f1a8d1a6"
      },
      "execution_count": null,
      "source": [
        "df.dropna(how='any')"
      ],
      "outputs": []
    },
    {
      "id": "cd89d969",
      "cell_type": "markdown",
      "source": [
        "### 65. Drop columns with any missing values"
      ],
      "metadata": {
        "id": "cd89d969"
      }
    },
    {
      "id": "488f82d7",
      "cell_type": "code",
      "metadata": {
        "id": "488f82d7"
      },
      "execution_count": null,
      "source": [
        "df.dropna(axis=1, how='any')"
      ],
      "outputs": []
    },
    {
      "id": "d8cc4185",
      "cell_type": "markdown",
      "source": [
        "### 66. Fill missing values with a specific value (0)"
      ],
      "metadata": {
        "id": "d8cc4185"
      }
    },
    {
      "id": "257d057d",
      "cell_type": "code",
      "metadata": {
        "id": "257d057d"
      },
      "execution_count": null,
      "source": [
        "df.fillna(0)"
      ],
      "outputs": []
    },
    {
      "id": "4b6b5dd7",
      "cell_type": "markdown",
      "source": [
        "### 67. Fill missing Age values with mean"
      ],
      "metadata": {
        "id": "4b6b5dd7"
      }
    },
    {
      "id": "09230ccd",
      "cell_type": "code",
      "metadata": {
        "id": "09230ccd"
      },
      "execution_count": null,
      "source": [
        "df.assign(Age=df['Age'].fillna(df['Age'].mean()))"
      ],
      "outputs": []
    },
    {
      "id": "cf614de8",
      "cell_type": "markdown",
      "source": [
        "### 68. Fill missing Salary values with median"
      ],
      "metadata": {
        "id": "cf614de8"
      }
    },
    {
      "id": "e2b378f4",
      "cell_type": "code",
      "metadata": {
        "id": "e2b378f4"
      },
      "execution_count": null,
      "source": [
        "df.assign(Salary=df['Salary'].fillna(df['Salary'].median()))"
      ],
      "outputs": []
    },
    {
      "id": "e28026a6",
      "cell_type": "markdown",
      "source": [
        "### 69. Fill missing City values with mode"
      ],
      "metadata": {
        "id": "e28026a6"
      }
    },
    {
      "id": "cfc87536",
      "cell_type": "code",
      "metadata": {
        "id": "cfc87536"
      },
      "execution_count": null,
      "source": [
        "df.assign(City=df['City'].fillna(df['City'].mode()[0]))"
      ],
      "outputs": []
    },
    {
      "id": "1a7f7a7b",
      "cell_type": "markdown",
      "source": [
        "### 70. Forward-fill missing values"
      ],
      "metadata": {
        "id": "1a7f7a7b"
      }
    },
    {
      "id": "e1db5cc3",
      "cell_type": "code",
      "metadata": {
        "id": "e1db5cc3"
      },
      "execution_count": null,
      "source": [
        "df.fillna(method='ffill')"
      ],
      "outputs": []
    },
    {
      "id": "e1943006",
      "cell_type": "markdown",
      "source": [
        "### 71. Backward-fill missing values"
      ],
      "metadata": {
        "id": "e1943006"
      }
    },
    {
      "id": "17e3453c",
      "cell_type": "code",
      "metadata": {
        "id": "17e3453c"
      },
      "execution_count": null,
      "source": [
        "df.fillna(method='bfill')"
      ],
      "outputs": []
    },
    {
      "id": "7fb1995a",
      "cell_type": "markdown",
      "source": [
        "### 72. Drop rows with all missing values"
      ],
      "metadata": {
        "id": "7fb1995a"
      }
    },
    {
      "id": "4f77c5af",
      "cell_type": "code",
      "metadata": {
        "id": "4f77c5af"
      },
      "execution_count": null,
      "source": [
        "df.dropna(how='all')"
      ],
      "outputs": []
    },
    {
      "id": "b53062e6",
      "cell_type": "markdown",
      "source": [
        "### 73. Check if Age is NaN"
      ],
      "metadata": {
        "id": "b53062e6"
      }
    },
    {
      "id": "bdccc619",
      "cell_type": "code",
      "metadata": {
        "id": "bdccc619"
      },
      "execution_count": null,
      "source": [
        "df['Age'].isnull()"
      ],
      "outputs": []
    },
    {
      "id": "fc42a502",
      "cell_type": "markdown",
      "source": [
        "### 74. Check if Age is not NaN"
      ],
      "metadata": {
        "id": "fc42a502"
      }
    },
    {
      "id": "325ca7ed",
      "cell_type": "code",
      "metadata": {
        "id": "325ca7ed"
      },
      "execution_count": null,
      "source": [
        "df['Age'].notnull()"
      ],
      "outputs": []
    },
    {
      "id": "c8d76259",
      "cell_type": "markdown",
      "source": [
        "### 75. Drop rows that have less than 3 valid values"
      ],
      "metadata": {
        "id": "c8d76259"
      }
    },
    {
      "id": "971ef08f",
      "cell_type": "code",
      "metadata": {
        "id": "971ef08f"
      },
      "execution_count": null,
      "source": [
        "df.dropna(thresh=3)"
      ],
      "outputs": []
    },
    {
      "id": "32c1e031",
      "cell_type": "markdown",
      "source": [
        "### 76. Interpolate missing numeric values"
      ],
      "metadata": {
        "id": "32c1e031"
      }
    },
    {
      "id": "e37cabef",
      "cell_type": "code",
      "metadata": {
        "id": "e37cabef"
      },
      "execution_count": null,
      "source": [
        "df.interpolate(method='linear')"
      ],
      "outputs": []
    },
    {
      "id": "c771b436",
      "cell_type": "markdown",
      "source": [
        "### 77. Fill NaN in City with 'Unknown'"
      ],
      "metadata": {
        "id": "c771b436"
      }
    },
    {
      "id": "9aa31a79",
      "cell_type": "code",
      "metadata": {
        "id": "9aa31a79"
      },
      "execution_count": null,
      "source": [
        "df.assign(City=df['City'].fillna('Unknown'))"
      ],
      "outputs": []
    },
    {
      "id": "6b8d9f69",
      "cell_type": "markdown",
      "source": [
        "### 78. Select rows where Salary is not NaN"
      ],
      "metadata": {
        "id": "6b8d9f69"
      }
    },
    {
      "id": "74d77f07",
      "cell_type": "code",
      "metadata": {
        "id": "74d77f07"
      },
      "execution_count": null,
      "source": [
        "df[df['Salary'].notnull()]"
      ],
      "outputs": []
    },
    {
      "id": "b0fa07b2",
      "cell_type": "markdown",
      "source": [
        "### 79. Replace 'Unknown' in City with NaN"
      ],
      "metadata": {
        "id": "b0fa07b2"
      }
    },
    {
      "id": "f386b113",
      "cell_type": "code",
      "metadata": {
        "id": "f386b113"
      },
      "execution_count": null,
      "source": [
        "df.replace({'City': {'Unknown': np.nan}})"
      ],
      "outputs": []
    },
    {
      "id": "c6efcad9",
      "cell_type": "markdown",
      "source": [
        "### 80. Fill missing values differently per column"
      ],
      "metadata": {
        "id": "c6efcad9"
      }
    },
    {
      "id": "827bceaa",
      "cell_type": "code",
      "metadata": {
        "id": "827bceaa"
      },
      "execution_count": null,
      "source": [
        "df.fillna({'Age': 0, 'City': 'N/A'})"
      ],
      "outputs": []
    }
  ]
}