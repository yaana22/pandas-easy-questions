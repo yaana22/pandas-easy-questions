{
  "cells": [
    {
      "cell_type": "markdown",
      "id": "fa41f865",
      "metadata": {
        "id": "fa41f865"
      },
      "source": [
        "# Pandas Practice — Part 3 (Questions 41–60)\n",
        "\n"
      ]
    },
    {
      "cell_type": "code",
      "execution_count": null,
      "id": "00f59108",
      "metadata": {
        "id": "00f59108"
      },
      "outputs": [],
      "source": [
        "\n",
        "import pandas as pd\n",
        "import numpy as np\n",
        "\n",
        "# Create a demo DataFrame\n",
        "df = pd.DataFrame({\n",
        "    'Name':['Alice','Bob','Charlie','David'],\n",
        "    'Age':[23,35,45,29],\n",
        "    'City':['New York','Paris','London','Tokyo']\n",
        "}, index=['row1','row2','row3','row4'])\n",
        "\n",
        "df\n"
      ]
    },
    {
      "cell_type": "markdown",
      "id": "aa8722bf",
      "metadata": {
        "id": "aa8722bf"
      },
      "source": [
        "### Q41: Add a new column 'Salary' with value 50000."
      ]
    },
    {
      "cell_type": "code",
      "execution_count": null,
      "id": "9101377c",
      "metadata": {
        "id": "9101377c"
      },
      "outputs": [],
      "source": [
        "df['Salary'] = 50000; df"
      ]
    },
    {
      "cell_type": "markdown",
      "id": "0c97e403",
      "metadata": {
        "id": "0c97e403"
      },
      "source": [
        "### Q42: Create column 'Age_in_Months' = Age*12."
      ]
    },
    {
      "cell_type": "code",
      "execution_count": null,
      "id": "08b2ffa4",
      "metadata": {
        "id": "08b2ffa4"
      },
      "outputs": [],
      "source": [
        "df['Age_in_Months'] = df['Age']*12; df"
      ]
    },
    {
      "cell_type": "markdown",
      "id": "143222c2",
      "metadata": {
        "id": "143222c2"
      },
      "source": [
        "### Q43: Update Salary of row1 to 60000."
      ]
    },
    {
      "cell_type": "code",
      "execution_count": null,
      "id": "f6f5ec01",
      "metadata": {
        "id": "f6f5ec01"
      },
      "outputs": [],
      "source": [
        "df.loc['row1','Salary'] = 60000; df"
      ]
    },
    {
      "cell_type": "markdown",
      "id": "b34ee0a3",
      "metadata": {
        "id": "b34ee0a3"
      },
      "source": [
        "### Q44: Set first row values to 0."
      ]
    },
    {
      "cell_type": "code",
      "execution_count": null,
      "id": "b40e880b",
      "metadata": {
        "id": "b40e880b"
      },
      "outputs": [],
      "source": [
        "df.iloc[0,:] = 0; df"
      ]
    },
    {
      "cell_type": "markdown",
      "id": "c4a0c370",
      "metadata": {
        "id": "c4a0c370"
      },
      "source": [
        "### Q45: Drop column 'Salary'."
      ]
    },
    {
      "cell_type": "code",
      "execution_count": null,
      "id": "ab6751b2",
      "metadata": {
        "id": "ab6751b2"
      },
      "outputs": [],
      "source": [
        "df2 = df.drop(columns=['Salary']); df2"
      ]
    },
    {
      "cell_type": "markdown",
      "id": "19a11bdc",
      "metadata": {
        "id": "19a11bdc"
      },
      "source": [
        "### Q46: Drop multiple columns ['Age_in_Months','City']."
      ]
    },
    {
      "cell_type": "code",
      "execution_count": null,
      "id": "34c3178b",
      "metadata": {
        "id": "34c3178b"
      },
      "outputs": [],
      "source": [
        "df3 = df.drop(columns=['Age_in_Months','City']); df3"
      ]
    },
    {
      "cell_type": "markdown",
      "id": "b816cc5a",
      "metadata": {
        "id": "b816cc5a"
      },
      "source": [
        "### Q47: Drop row 'row2'."
      ]
    },
    {
      "cell_type": "code",
      "execution_count": null,
      "id": "549e631b",
      "metadata": {
        "id": "549e631b"
      },
      "outputs": [],
      "source": [
        "df4 = df.drop(index='row2'); df4"
      ]
    },
    {
      "cell_type": "markdown",
      "id": "8ecc7323",
      "metadata": {
        "id": "8ecc7323"
      },
      "source": [
        "### Q48: Drop first row using index position."
      ]
    },
    {
      "cell_type": "code",
      "execution_count": null,
      "id": "2eec253e",
      "metadata": {
        "id": "2eec253e"
      },
      "outputs": [],
      "source": [
        "df5 = df.drop(df.index[0]); df5"
      ]
    },
    {
      "cell_type": "markdown",
      "id": "e6db2276",
      "metadata": {
        "id": "e6db2276"
      },
      "source": [
        "### Q49: Remove duplicate rows."
      ]
    },
    {
      "cell_type": "code",
      "execution_count": null,
      "id": "3d904a0e",
      "metadata": {
        "id": "3d904a0e"
      },
      "outputs": [],
      "source": [
        "df6 = df.drop_duplicates(); df6"
      ]
    },
    {
      "cell_type": "markdown",
      "id": "ddaa378e",
      "metadata": {
        "id": "ddaa378e"
      },
      "source": [
        "### Q50: Rename column 'Name' to 'Full_Name'."
      ]
    },
    {
      "cell_type": "code",
      "execution_count": null,
      "id": "e818387a",
      "metadata": {
        "id": "e818387a"
      },
      "outputs": [],
      "source": [
        "df7 = df.rename(columns={'Name':'Full_Name'}); df7"
      ]
    },
    {
      "cell_type": "markdown",
      "id": "8c2634aa",
      "metadata": {
        "id": "8c2634aa"
      },
      "source": [
        "### Q51: Rename multiple columns."
      ]
    },
    {
      "cell_type": "code",
      "execution_count": null,
      "id": "302e619d",
      "metadata": {
        "id": "302e619d"
      },
      "outputs": [],
      "source": [
        "df8 = df.rename(columns={'Age':'Years','City':'Location'}); df8"
      ]
    },
    {
      "cell_type": "markdown",
      "id": "e29a1a0a",
      "metadata": {
        "id": "e29a1a0a"
      },
      "source": [
        "### Q52: Increase Age by 1 using apply."
      ]
    },
    {
      "cell_type": "code",
      "execution_count": null,
      "id": "103b5d00",
      "metadata": {
        "id": "103b5d00"
      },
      "outputs": [],
      "source": [
        "df['Age'] = df['Age'].apply(lambda x: x+1); df"
      ]
    },
    {
      "cell_type": "markdown",
      "id": "163d77d5",
      "metadata": {
        "id": "163d77d5"
      },
      "source": [
        "### Q53: Replace 'New York' with 'NYC' in City."
      ]
    },
    {
      "cell_type": "code",
      "execution_count": null,
      "id": "28caaee9",
      "metadata": {
        "id": "28caaee9"
      },
      "outputs": [],
      "source": [
        "df['City'] = df['City'].replace('New York','NYC'); df"
      ]
    },
    {
      "cell_type": "markdown",
      "id": "da9bc698",
      "metadata": {
        "id": "da9bc698"
      },
      "source": [
        "### Q54: Convert Salary column to int."
      ]
    },
    {
      "cell_type": "code",
      "execution_count": null,
      "id": "aaaf559f",
      "metadata": {
        "id": "aaaf559f"
      },
      "outputs": [],
      "source": [
        "df['Salary'] = df['Salary'].astype(int); df.dtypes"
      ]
    },
    {
      "cell_type": "markdown",
      "id": "b5bf4e28",
      "metadata": {
        "id": "b5bf4e28"
      },
      "source": [
        "### Q55: Update Salary of rows 1 to 3 to 75000."
      ]
    },
    {
      "cell_type": "code",
      "execution_count": null,
      "id": "3d1859c2",
      "metadata": {
        "id": "3d1859c2"
      },
      "outputs": [],
      "source": [
        "df.loc['row1':'row3','Salary'] = 75000; df"
      ]
    },
    {
      "cell_type": "markdown",
      "id": "ab188f9e",
      "metadata": {
        "id": "ab188f9e"
      },
      "source": [
        "### Q56: Get 3 random rows."
      ]
    },
    {
      "cell_type": "code",
      "execution_count": null,
      "id": "4b80fe7c",
      "metadata": {
        "id": "4b80fe7c"
      },
      "outputs": [],
      "source": [
        "df.sample(3)"
      ]
    },
    {
      "cell_type": "markdown",
      "id": "c8877fb6",
      "metadata": {
        "id": "c8877fb6"
      },
      "source": [
        "### Q57: Add a boolean column 'Is_Employee'=True."
      ]
    },
    {
      "cell_type": "code",
      "execution_count": null,
      "id": "6090d7c8",
      "metadata": {
        "id": "6090d7c8"
      },
      "outputs": [],
      "source": [
        "df['Is_Employee'] = True; df"
      ]
    },
    {
      "cell_type": "markdown",
      "id": "21e1e661",
      "metadata": {
        "id": "21e1e661"
      },
      "source": [
        "### Q58: Halve Age values."
      ]
    },
    {
      "cell_type": "code",
      "execution_count": null,
      "id": "b1827b1d",
      "metadata": {
        "id": "b1827b1d"
      },
      "outputs": [],
      "source": [
        "df['Age'] = df['Age']/2; df"
      ]
    },
    {
      "cell_type": "markdown",
      "id": "c86309e4",
      "metadata": {
        "id": "c86309e4"
      },
      "source": [
        "### Q59: Create 'Full_Name' = First_Name + Last_Name."
      ]
    },
    {
      "cell_type": "code",
      "execution_count": null,
      "id": "903c660c",
      "metadata": {
        "id": "903c660c"
      },
      "outputs": [],
      "source": [
        "demo = pd.DataFrame({'First_Name':['Tom','Jane'], 'Last_Name':['Lee','Doe']}); demo['Full_Name']=demo['First_Name']+' '+demo['Last_Name']; demo"
      ]
    },
    {
      "cell_type": "markdown",
      "id": "62cf60df",
      "metadata": {
        "id": "62cf60df"
      },
      "source": [
        "### Q60: Reset index to default integers."
      ]
    },
    {
      "cell_type": "code",
      "execution_count": null,
      "id": "ba4a2593",
      "metadata": {
        "id": "ba4a2593"
      },
      "outputs": [],
      "source": [
        "df_reset = df.reset_index(drop=True); df_reset"
      ]
    }
  ],
  "metadata": {
    "colab": {
      "provenance": []
    }
  },
  "nbformat": 4,
  "nbformat_minor": 5
}