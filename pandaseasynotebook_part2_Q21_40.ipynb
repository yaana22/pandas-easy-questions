{
  "cells": [
    {
      "cell_type": "markdown",
      "id": "5b35d1be",
      "metadata": {
        "id": "5b35d1be"
      },
      "source": [
        "# Pandas Practice — Part 2 (Questions 21–40)\n",
        "\n"
      ]
    },
    {
      "cell_type": "code",
      "execution_count": null,
      "id": "ba9ad555",
      "metadata": {
        "id": "ba9ad555"
      },
      "outputs": [],
      "source": [
        "\n",
        "import pandas as pd\n",
        "import numpy as np\n",
        "\n",
        "# Create a small demo DataFrame for selection/filtering examples\n",
        "df = pd.DataFrame({\n",
        "    'Name':['Alice','Bob','Charlie','David','Eva','Frank'],\n",
        "    'Age':[23,35,45,29,32,40],\n",
        "    'City':['New York','Paris','London','Tokyo','London','Berlin']\n",
        "}, index=['row1','row2','row3','row4','row5','row6'])\n",
        "\n",
        "df\n"
      ]
    },
    {
      "cell_type": "markdown",
      "id": "178fc610",
      "metadata": {
        "id": "178fc610"
      },
      "source": [
        "### Q21: Select the 'Name' column."
      ]
    },
    {
      "cell_type": "code",
      "execution_count": null,
      "id": "5bfbcba5",
      "metadata": {
        "id": "5bfbcba5"
      },
      "outputs": [],
      "source": [
        "df['Name']"
      ]
    },
    {
      "cell_type": "markdown",
      "id": "6ac5fada",
      "metadata": {
        "id": "6ac5fada"
      },
      "source": [
        "### Q22: Select columns 'Name' and 'Age'."
      ]
    },
    {
      "cell_type": "code",
      "execution_count": null,
      "id": "254a19bf",
      "metadata": {
        "id": "254a19bf"
      },
      "outputs": [],
      "source": [
        "df[['Name','Age']]"
      ]
    },
    {
      "cell_type": "markdown",
      "id": "f04a0710",
      "metadata": {
        "id": "f04a0710"
      },
      "source": [
        "### Q23: Select row with label 'row1'."
      ]
    },
    {
      "cell_type": "code",
      "execution_count": null,
      "id": "98cb231f",
      "metadata": {
        "id": "98cb231f"
      },
      "outputs": [],
      "source": [
        "df.loc['row1']"
      ]
    },
    {
      "cell_type": "markdown",
      "id": "9ae3fc5f",
      "metadata": {
        "id": "9ae3fc5f"
      },
      "source": [
        "### Q24: Select second row (iloc)."
      ]
    },
    {
      "cell_type": "code",
      "execution_count": null,
      "id": "45ac59bf",
      "metadata": {
        "id": "45ac59bf"
      },
      "outputs": [],
      "source": [
        "df.iloc[1]"
      ]
    },
    {
      "cell_type": "markdown",
      "id": "f6d68318",
      "metadata": {
        "id": "f6d68318"
      },
      "source": [
        "### Q25: Select rows from index 2 to 5 using iloc."
      ]
    },
    {
      "cell_type": "code",
      "execution_count": null,
      "id": "2e20afd1",
      "metadata": {
        "id": "2e20afd1"
      },
      "outputs": [],
      "source": [
        "df.iloc[2:6]"
      ]
    },
    {
      "cell_type": "markdown",
      "id": "5744f549",
      "metadata": {
        "id": "5744f549"
      },
      "source": [
        "### Q26: Select value at row 'row2', column 'Age'."
      ]
    },
    {
      "cell_type": "code",
      "execution_count": null,
      "id": "b0fafe86",
      "metadata": {
        "id": "b0fafe86"
      },
      "outputs": [],
      "source": [
        "df.loc['row2','Age']"
      ]
    },
    {
      "cell_type": "markdown",
      "id": "29ab6e1b",
      "metadata": {
        "id": "29ab6e1b"
      },
      "source": [
        "### Q27: Select rows 'row1' to 'row3' and columns ['Name','City']."
      ]
    },
    {
      "cell_type": "code",
      "execution_count": null,
      "id": "a2567bea",
      "metadata": {
        "id": "a2567bea"
      },
      "outputs": [],
      "source": [
        "df.loc['row1':'row3',['Name','City']]"
      ]
    },
    {
      "cell_type": "markdown",
      "id": "f68d1fcf",
      "metadata": {
        "id": "f68d1fcf"
      },
      "source": [
        "### Q28: Display first 5 values of 'Age'."
      ]
    },
    {
      "cell_type": "code",
      "execution_count": null,
      "id": "a1ea1a0a",
      "metadata": {
        "id": "a1ea1a0a"
      },
      "outputs": [],
      "source": [
        "df['Age'].head(5)"
      ]
    },
    {
      "cell_type": "markdown",
      "id": "0041995d",
      "metadata": {
        "id": "0041995d"
      },
      "source": [
        "### Q29: Set 'Name' as index."
      ]
    },
    {
      "cell_type": "code",
      "execution_count": null,
      "id": "27494868",
      "metadata": {
        "id": "27494868"
      },
      "outputs": [],
      "source": [
        "df2 = df.set_index('Name'); df2.head()"
      ]
    },
    {
      "cell_type": "markdown",
      "id": "f0149acc",
      "metadata": {
        "id": "f0149acc"
      },
      "source": [
        "### Q30: Reset index back to default integers."
      ]
    },
    {
      "cell_type": "code",
      "execution_count": null,
      "id": "cd27dfa6",
      "metadata": {
        "id": "cd27dfa6"
      },
      "outputs": [],
      "source": [
        "df2.reset_index(drop=True)"
      ]
    },
    {
      "cell_type": "markdown",
      "id": "803f9388",
      "metadata": {
        "id": "803f9388"
      },
      "source": [
        "### Q31: Select rows where Age > 30."
      ]
    },
    {
      "cell_type": "code",
      "execution_count": null,
      "id": "fcf9a1ef",
      "metadata": {
        "id": "fcf9a1ef"
      },
      "outputs": [],
      "source": [
        "df[df['Age'] > 30]"
      ]
    },
    {
      "cell_type": "markdown",
      "id": "e56b89a7",
      "metadata": {
        "id": "e56b89a7"
      },
      "source": [
        "### Q32: Select rows where City == 'New York'."
      ]
    },
    {
      "cell_type": "code",
      "execution_count": null,
      "id": "40bc9ab8",
      "metadata": {
        "id": "40bc9ab8"
      },
      "outputs": [],
      "source": [
        "df[df['City'] == 'New York']"
      ]
    },
    {
      "cell_type": "markdown",
      "id": "d1594e3c",
      "metadata": {
        "id": "d1594e3c"
      },
      "source": [
        "### Q33: Select rows where Age > 25 and City == 'London'."
      ]
    },
    {
      "cell_type": "code",
      "execution_count": null,
      "id": "f63e055b",
      "metadata": {
        "id": "f63e055b"
      },
      "outputs": [],
      "source": [
        "df[(df['Age'] > 25) & (df['City'] == 'London')]"
      ]
    },
    {
      "cell_type": "markdown",
      "id": "7ad4fc0c",
      "metadata": {
        "id": "7ad4fc0c"
      },
      "source": [
        "### Q34: Select rows where Age < 30 or City == 'Paris'."
      ]
    },
    {
      "cell_type": "code",
      "execution_count": null,
      "id": "93532b6e",
      "metadata": {
        "id": "93532b6e"
      },
      "outputs": [],
      "source": [
        "df[(df['Age'] < 30) | (df['City'] == 'Paris')]"
      ]
    },
    {
      "cell_type": "markdown",
      "id": "b688d861",
      "metadata": {
        "id": "b688d861"
      },
      "source": [
        "### Q35: Select rows where City in ['Tokyo','Moscow','Berlin']."
      ]
    },
    {
      "cell_type": "code",
      "execution_count": null,
      "id": "4e0cb9f1",
      "metadata": {
        "id": "4e0cb9f1"
      },
      "outputs": [],
      "source": [
        "df[df['City'].isin(['Tokyo','Moscow','Berlin'])]"
      ]
    },
    {
      "cell_type": "markdown",
      "id": "c79eb46b",
      "metadata": {
        "id": "c79eb46b"
      },
      "source": [
        "### Q36: Select rows where City != 'New York'."
      ]
    },
    {
      "cell_type": "code",
      "execution_count": null,
      "id": "03bb7168",
      "metadata": {
        "id": "03bb7168"
      },
      "outputs": [],
      "source": [
        "df[df['City'] != 'New York']"
      ]
    },
    {
      "cell_type": "markdown",
      "id": "bac35761",
      "metadata": {
        "id": "bac35761"
      },
      "source": [
        "### Q37: Select rows where Age is not null."
      ]
    },
    {
      "cell_type": "code",
      "execution_count": null,
      "id": "b8168a2a",
      "metadata": {
        "id": "b8168a2a"
      },
      "outputs": [],
      "source": [
        "df[df['Age'].notna()]"
      ]
    },
    {
      "cell_type": "markdown",
      "id": "301799a5",
      "metadata": {
        "id": "301799a5"
      },
      "source": [
        "### Q38: Select rows where Age is null (none here)."
      ]
    },
    {
      "cell_type": "code",
      "execution_count": null,
      "id": "64e07e97",
      "metadata": {
        "id": "64e07e97"
      },
      "outputs": [],
      "source": [
        "df[df['Age'].isna()]"
      ]
    },
    {
      "cell_type": "markdown",
      "id": "4f4372e9",
      "metadata": {
        "id": "4f4372e9"
      },
      "source": [
        "### Q39: Select rows where Name starts with 'A'."
      ]
    },
    {
      "cell_type": "code",
      "execution_count": null,
      "id": "59374ae1",
      "metadata": {
        "id": "59374ae1"
      },
      "outputs": [],
      "source": [
        "df[df['Name'].str.startswith('A')]"
      ]
    },
    {
      "cell_type": "markdown",
      "id": "2178f35c",
      "metadata": {
        "id": "2178f35c"
      },
      "source": [
        "### Q40: Use query to select Age > 22."
      ]
    },
    {
      "cell_type": "code",
      "execution_count": null,
      "id": "57c5dcd3",
      "metadata": {
        "id": "57c5dcd3"
      },
      "outputs": [],
      "source": [
        "df.query('Age > 22')"
      ]
    }
  ],
  "metadata": {
    "colab": {
      "provenance": []
    }
  },
  "nbformat": 4,
  "nbformat_minor": 5
}