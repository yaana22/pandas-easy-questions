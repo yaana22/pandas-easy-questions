{
 "cells": [
  {
   "cell_type": "markdown",
   "id": "b98cd782",
   "metadata": {},
   "source": [
    "# Pandas Questions 81–100 with Solutions"
   ]
  },
  {
   "cell_type": "markdown",
   "id": "2fb42c77",
   "metadata": {},
   "source": [
    "### 81. Find the sum of a column (Salary)"
   ]
  },
  {
   "cell_type": "code",
   "execution_count": null,
   "id": "3a6e5be7",
   "metadata": {},
   "outputs": [],
   "source": [
    "df['Salary'].sum()"
   ]
  },
  {
   "cell_type": "markdown",
   "id": "6d863aae",
   "metadata": {},
   "source": [
    "### 82. Find the mean of a column (Age)"
   ]
  },
  {
   "cell_type": "code",
   "execution_count": null,
   "id": "05bfb042",
   "metadata": {},
   "outputs": [],
   "source": [
    "df['Age'].mean()"
   ]
  },
  {
   "cell_type": "markdown",
   "id": "82329e36",
   "metadata": {},
   "source": [
    "### 83. Find the maximum value in a column (Salary)"
   ]
  },
  {
   "cell_type": "code",
   "execution_count": null,
   "id": "b3e9341a",
   "metadata": {},
   "outputs": [],
   "source": [
    "df['Salary'].max()"
   ]
  },
  {
   "cell_type": "markdown",
   "id": "2c31e5d8",
   "metadata": {},
   "source": [
    "### 84. Find the minimum value in a column (Age)"
   ]
  },
  {
   "cell_type": "code",
   "execution_count": null,
   "id": "9f439e99",
   "metadata": {},
   "outputs": [],
   "source": [
    "df['Age'].min()"
   ]
  },
  {
   "cell_type": "markdown",
   "id": "e19657f3",
   "metadata": {},
   "source": [
    "### 85. Count non-NA cells in City"
   ]
  },
  {
   "cell_type": "code",
   "execution_count": null,
   "id": "55513ddd",
   "metadata": {},
   "outputs": [],
   "source": [
    "df['City'].count()"
   ]
  },
  {
   "cell_type": "markdown",
   "id": "e9b9e4b3",
   "metadata": {},
   "source": [
    "### 86. Find value counts for City"
   ]
  },
  {
   "cell_type": "code",
   "execution_count": null,
   "id": "38d0373d",
   "metadata": {},
   "outputs": [],
   "source": [
    "df['City'].value_counts()"
   ]
  },
  {
   "cell_type": "markdown",
   "id": "4137c4e3",
   "metadata": {},
   "source": [
    "### 87. Find value counts with percentages for City"
   ]
  },
  {
   "cell_type": "code",
   "execution_count": null,
   "id": "217f89da",
   "metadata": {},
   "outputs": [],
   "source": [
    "df['City'].value_counts(normalize=True) * 100"
   ]
  },
  {
   "cell_type": "markdown",
   "id": "8bb79826",
   "metadata": {},
   "source": [
    "### 88. Add two numerical columns elementwise"
   ]
  },
  {
   "cell_type": "code",
   "execution_count": null,
   "id": "f1e2df90",
   "metadata": {},
   "outputs": [],
   "source": [
    "df['sum_col'] = df['num_col1'] + df['num_col2']"
   ]
  },
  {
   "cell_type": "markdown",
   "id": "18bcc029",
   "metadata": {},
   "source": [
    "### 89. Multiply a column by scalar (Age*2)"
   ]
  },
  {
   "cell_type": "code",
   "execution_count": null,
   "id": "91c0f2c1",
   "metadata": {},
   "outputs": [],
   "source": [
    "df['Age'] * 2"
   ]
  },
  {
   "cell_type": "markdown",
   "id": "9f525137",
   "metadata": {},
   "source": [
    "### 90. Convert Name to uppercase"
   ]
  },
  {
   "cell_type": "code",
   "execution_count": null,
   "id": "78d07469",
   "metadata": {},
   "outputs": [],
   "source": [
    "df['Name'].str.upper()"
   ]
  },
  {
   "cell_type": "markdown",
   "id": "f95553be",
   "metadata": {},
   "source": [
    "### 91. Convert City to lowercase"
   ]
  },
  {
   "cell_type": "code",
   "execution_count": null,
   "id": "bdf87ccf",
   "metadata": {},
   "outputs": [],
   "source": [
    "df['City'].str.lower()"
   ]
  },
  {
   "cell_type": "markdown",
   "id": "8ee29103",
   "metadata": {},
   "source": [
    "### 92. Find length of strings in Name"
   ]
  },
  {
   "cell_type": "code",
   "execution_count": null,
   "id": "d3f10961",
   "metadata": {},
   "outputs": [],
   "source": [
    "df['Name'].str.len()"
   ]
  },
  {
   "cell_type": "markdown",
   "id": "b128030c",
   "metadata": {},
   "source": [
    "### 93. Cumulative sum of Salary"
   ]
  },
  {
   "cell_type": "code",
   "execution_count": null,
   "id": "2ff0d39c",
   "metadata": {},
   "outputs": [],
   "source": [
    "df['Salary'].cumsum()"
   ]
  },
  {
   "cell_type": "markdown",
   "id": "16552c15",
   "metadata": {},
   "source": [
    "### 94. Product of all items in column"
   ]
  },
  {
   "cell_type": "code",
   "execution_count": null,
   "id": "342b48da",
   "metadata": {},
   "outputs": [],
   "source": [
    "df['num_col'].prod()"
   ]
  },
  {
   "cell_type": "markdown",
   "id": "a5e3d7dc",
   "metadata": {},
   "source": [
    "### 95. Index of max Salary"
   ]
  },
  {
   "cell_type": "code",
   "execution_count": null,
   "id": "bed3fa26",
   "metadata": {},
   "outputs": [],
   "source": [
    "df['Salary'].idxmax()"
   ]
  },
  {
   "cell_type": "markdown",
   "id": "67f2eaae",
   "metadata": {},
   "source": [
    "### 96. Index of min Age"
   ]
  },
  {
   "cell_type": "code",
   "execution_count": null,
   "id": "f4b6e446",
   "metadata": {},
   "outputs": [],
   "source": [
    "df['Age'].idxmin()"
   ]
  },
  {
   "cell_type": "markdown",
   "id": "01333149",
   "metadata": {},
   "source": [
    "### 97. Round float column to 2 decimals"
   ]
  },
  {
   "cell_type": "code",
   "execution_count": null,
   "id": "ee98c9de",
   "metadata": {},
   "outputs": [],
   "source": [
    "df['float_col'].round(2)"
   ]
  },
  {
   "cell_type": "markdown",
   "id": "06dd4df8",
   "metadata": {},
   "source": [
    "### 98. Absolute values of a column"
   ]
  },
  {
   "cell_type": "code",
   "execution_count": null,
   "id": "b4d660f9",
   "metadata": {},
   "outputs": [],
   "source": [
    "df['neg_col'].abs()"
   ]
  },
  {
   "cell_type": "markdown",
   "id": "6de5893f",
   "metadata": {},
   "source": [
    "### 99. Median of Salary"
   ]
  },
  {
   "cell_type": "code",
   "execution_count": null,
   "id": "211c5cd3",
   "metadata": {},
   "outputs": [],
   "source": [
    "df['Salary'].median()"
   ]
  },
  {
   "cell_type": "markdown",
   "id": "196170e4",
   "metadata": {},
   "source": [
    "### 100. Count names containing 'A'"
   ]
  },
  {
   "cell_type": "code",
   "execution_count": null,
   "id": "42c93b33",
   "metadata": {},
   "outputs": [],
   "source": [
    "df['Name'].str.contains('A', na=False).sum()"
   ]
  }
 ],
 "metadata": {},
 "nbformat": 4,
 "nbformat_minor": 5
}
